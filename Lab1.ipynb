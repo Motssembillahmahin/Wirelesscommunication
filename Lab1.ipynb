{
 "cells": [
  {
   "cell_type": "code",
   "execution_count": 55,
   "id": "68d0f486-6d53-4988-9a5f-521f69067126",
   "metadata": {},
   "outputs": [],
   "source": [
    "bandwidth = 3e4 # Hz\n",
    "single_channel_bw = 25\n"
   ]
  },
  {
   "cell_type": "code",
   "execution_count": 57,
   "id": "94e974f2-afa4-41fe-8a66-ebdfde55e45c",
   "metadata": {},
   "outputs": [],
   "source": [
    "#duplex chaneel bw\n",
    "duplex_channel =2*single_channel_bw"
   ]
  },
  {
   "cell_type": "code",
   "execution_count": 59,
   "id": "88836ab5-d17c-480d-aa16-ca24ffe83bf4",
   "metadata": {},
   "outputs": [
    {
     "name": "stdout",
     "output_type": "stream",
     "text": [
      "Channel Bandwdth : 50\n"
     ]
    }
   ],
   "source": [
    "print(\"Channel Bandwdth :\", duplex_channel)"
   ]
  },
  {
   "cell_type": "code",
   "execution_count": 61,
   "id": "cc6383e2-eafc-4507-a0b0-eb8bf322ba7b",
   "metadata": {},
   "outputs": [],
   "source": [
    "Total_channel = bandwidth//duplex_channel"
   ]
  },
  {
   "cell_type": "code",
   "execution_count": 65,
   "id": "0e15f606-167c-4bc8-987e-fcce07d57bb9",
   "metadata": {},
   "outputs": [
    {
     "name": "stdout",
     "output_type": "stream",
     "text": [
      "Total available channe 600.0\n"
     ]
    }
   ],
   "source": [
    "print(\"Total available channe\", Total_channel)"
   ]
  },
  {
   "cell_type": "code",
   "execution_count": 68,
   "id": "bc5e856b-ff1b-4c77-8853-df65d3f8adf4",
   "metadata": {},
   "outputs": [],
   "source": [
    "# control channel bw\n",
    "Total_control_channel_bw = 1000"
   ]
  },
  {
   "cell_type": "code",
   "execution_count": 70,
   "id": "66e7f875-1ca1-4383-a7c6-ad0c82bf2aa9",
   "metadata": {},
   "outputs": [
    {
     "name": "stdout",
     "output_type": "stream",
     "text": [
      "Total control channel 20\n"
     ]
    }
   ],
   "source": [
    "# Total control channel\n",
    "total_control_channel =Total_control_channel_bw//duplex_channel\n",
    "print(\"Total control channel\", total_control_channel)"
   ]
  },
  {
   "cell_type": "markdown",
   "id": "213dfca9-5393-43ca-88ec-de3c8c3c4b69",
   "metadata": {},
   "source": [
    "For various cluster size"
   ]
  },
  {
   "cell_type": "code",
   "execution_count": 73,
   "id": "85fcc64c-948b-4b80-a2f3-4aad3a3fa6c9",
   "metadata": {},
   "outputs": [],
   "source": [
    "N = [4, 7, 12]"
   ]
  },
  {
   "cell_type": "code",
   "execution_count": 85,
   "id": "031f0f15-8ade-4973-b7ff-afaa7162ace3",
   "metadata": {},
   "outputs": [
    {
     "name": "stdout",
     "output_type": "stream",
     "text": [
      "cluster size: 4\n",
      "Channel per cell 150.0\n",
      "Control Channel= 5\n",
      "Voice channel= 145.0\n",
      "\n",
      "\n",
      "cluster size: 7\n",
      "Channel per cell 85.0\n",
      "Control Channel= 2\n",
      "Voice channel= 82.0\n",
      "\n",
      "\n",
      "cluster size: 12\n",
      "Channel per cell 50.0\n",
      "Control Channel= 1\n",
      "Voice channel= 48.0\n",
      "\n",
      "\n"
     ]
    }
   ],
   "source": [
    "for cluster_size in N:\n",
    "    #cluster size'\n",
    "    print(\"cluster size:\", cluster_size)\n",
    "    # channel per cells\n",
    "    channel_per_cell = Total_channel// cluster_size\n",
    "    print(\"Channel per cell\", channel_per_cell)\n",
    "    #control channel per cells\n",
    "    control_channel = total_control_channel // cluster_size\n",
    "    print(\"Control Channel=\", control_channel)\n",
    "    # voice channel per cell\n",
    "    voice_channel_per_cel = (Total_channel -total_control_channel)//cluster_size\n",
    "    print(\"Voice channel=\", voice_channel_per_cel)\n",
    "    print(\"\\n\")"
   ]
  },
  {
   "cell_type": "code",
   "execution_count": null,
   "id": "b07b68a1-3cf6-4f88-b22c-80568c616cbe",
   "metadata": {},
   "outputs": [],
   "source": []
  }
 ],
 "metadata": {
  "kernelspec": {
   "display_name": "Python 3 (ipykernel)",
   "language": "python",
   "name": "python3"
  },
  "language_info": {
   "codemirror_mode": {
    "name": "ipython",
    "version": 3
   },
   "file_extension": ".py",
   "mimetype": "text/x-python",
   "name": "python",
   "nbconvert_exporter": "python",
   "pygments_lexer": "ipython3",
   "version": "3.12.4"
  }
 },
 "nbformat": 4,
 "nbformat_minor": 5
}
