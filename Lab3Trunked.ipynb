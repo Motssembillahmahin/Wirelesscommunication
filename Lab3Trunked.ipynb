{
 "cells": [
  {
   "cell_type": "code",
   "execution_count": 25,
   "id": "bddfc782-e1d6-434f-aea4-39bc60dafe2f",
   "metadata": {},
   "outputs": [
    {
     "name": "stdout",
     "output_type": "stream",
     "text": [
      "Blocking Probability:  0.005\n",
      "Traffic intensity per user:  0.1\n",
      "Traffic intensity:  [0.005, 1.13, 3.96, 11.1, 80.9]\n",
      "\n",
      "\n",
      "From table we get traffic intensity of 1 channel is 0.005 \n",
      "Total number of user: 0\n",
      "\n",
      "\n",
      "From table we get traffic intensity of 5 channel is 1.13 \n",
      "Total number of user: 11\n",
      "\n",
      "\n",
      "From table we get traffic intensity of 10 channel is 3.96 \n",
      "Total number of user: 40\n",
      "\n",
      "\n",
      "From table we get traffic intensity of 20 channel is 11.1 \n",
      "Total number of user: 111\n",
      "\n",
      "\n",
      "From table we get traffic intensity of 100 channel is 80.9 \n",
      "Total number of user: 809\n",
      "\n",
      "\n"
     ]
    }
   ],
   "source": [
    "gos = 0.5/100\n",
    "Au = 0.1\n",
    "# from table\n",
    "A = [0.005, 1.13, 3.96, 11.1, 80.9]\n",
    "c = [1, 5, 10, 20, 100]\n",
    "# Given blocking probabilty\n",
    "print(\"Blocking Probability: \", gos)\n",
    "# Tracffic intensity per user\n",
    "print(\"Traffic intensity per user: \", Au)\n",
    "# Traffic intensity\n",
    "print(\"Traffic intensity: \", A)\n",
    "print(\"\\n\")\n",
    "for i in range(len(A)):\n",
    "    print(f\"From table we get traffic intensity of {c[i]} channel is {A[i]} \")\n",
    "    print(f\"Total number of user: {round(A[i]/0.1)}\")\n",
    "    print(\"\\n\")\n"
   ]
  },
  {
   "cell_type": "code",
   "execution_count": null,
   "id": "93638b28-501f-4dbc-b6bc-66bf570a3e11",
   "metadata": {},
   "outputs": [],
   "source": []
  }
 ],
 "metadata": {
  "kernelspec": {
   "display_name": "Python 3 (ipykernel)",
   "language": "python",
   "name": "python3"
  },
  "language_info": {
   "codemirror_mode": {
    "name": "ipython",
    "version": 3
   },
   "file_extension": ".py",
   "mimetype": "text/x-python",
   "name": "python",
   "nbconvert_exporter": "python",
   "pygments_lexer": "ipython3",
   "version": "3.12.4"
  }
 },
 "nbformat": 4,
 "nbformat_minor": 5
}
