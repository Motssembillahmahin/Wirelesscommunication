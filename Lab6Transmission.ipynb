{
 "cells": [
  {
   "cell_type": "code",
   "execution_count": 1,
   "id": "a2eb6508-0a68-458c-8822-c2fb398343ba",
   "metadata": {},
   "outputs": [],
   "source": [
    "import math"
   ]
  },
  {
   "cell_type": "code",
   "execution_count": 3,
   "id": "c3bfb247-e645-4200-8c30-c8c8a8253e5f",
   "metadata": {},
   "outputs": [],
   "source": [
    "c = 3e8 #wavelength\n",
    "f = 9e8 #Carrier Frequency\n",
    "vs = 70 * (1000/(60*60)) # vechicle speed"
   ]
  },
  {
   "cell_type": "code",
   "execution_count": 5,
   "id": "03fde5ef-69d6-4aae-b23d-3ace4b8a48df",
   "metadata": {},
   "outputs": [
    {
     "name": "stdout",
     "output_type": "stream",
     "text": [
      "A\n",
      "The vehicle is moving directly away from the transmitter: 300000000\n"
     ]
    }
   ],
   "source": [
    "print(\"A\")\n",
    "print(f\"The vehicle is moving directly away from the transmitter: {math.floor(c + (vs/f))}\")"
   ]
  },
  {
   "cell_type": "code",
   "execution_count": 7,
   "id": "1390c66c-0e21-4fc7-b696-6a946bba7f5a",
   "metadata": {},
   "outputs": [
    {
     "name": "stdout",
     "output_type": "stream",
     "text": [
      "B\n",
      "The vehicle is moving directly away from the transmitter: 300000000\n"
     ]
    }
   ],
   "source": [
    "print(\"B\")\n",
    "print(f\"The vehicle is moving directly away from the transmitter: {math.floor(c - (vs/f))}\")"
   ]
  },
  {
   "cell_type": "code",
   "execution_count": 9,
   "id": "e2ab8d69-7282-4ede-93cf-1e477107f9ed",
   "metadata": {},
   "outputs": [
    {
     "name": "stdout",
     "output_type": "stream",
     "text": [
      "C\n",
      "The vehicle is moving perpendicular to the angle of arrivalof the transmitted signal\n",
      "The received signla frequency is the sense of the transmitted frequency - 900Mhz\n"
     ]
    }
   ],
   "source": [
    "print(\"C\")\n",
    "print(\"The vehicle is moving perpendicular to the angle of arrivalof the transmitted signal\")\n",
    "print(\"The received signla frequency is the sense of the transmitted frequency - 900Mhz\")"
   ]
  },
  {
   "cell_type": "code",
   "execution_count": null,
   "id": "29cbc884-2443-428a-b9f7-20290f1588d0",
   "metadata": {},
   "outputs": [],
   "source": []
  }
 ],
 "metadata": {
  "kernelspec": {
   "display_name": "Python 3 (ipykernel)",
   "language": "python",
   "name": "python3"
  },
  "language_info": {
   "codemirror_mode": {
    "name": "ipython",
    "version": 3
   },
   "file_extension": ".py",
   "mimetype": "text/x-python",
   "name": "python",
   "nbconvert_exporter": "python",
   "pygments_lexer": "ipython3",
   "version": "3.12.4"
  }
 },
 "nbformat": 4,
 "nbformat_minor": 5
}
