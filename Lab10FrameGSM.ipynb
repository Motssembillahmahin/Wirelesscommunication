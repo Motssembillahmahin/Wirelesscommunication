{
 "cells": [
  {
   "cell_type": "code",
   "execution_count": 1,
   "id": "7db7acbb-af82-4b88-9112-8c5464f8f04e",
   "metadata": {},
   "outputs": [],
   "source": [
    "trans_data = 270.833\n",
    "each_time_slot = 156.25\n",
    "Num_time_slot = 8"
   ]
  },
  {
   "cell_type": "code",
   "execution_count": 3,
   "id": "ef7df6df-fab1-4d3d-9199-81e6350b71ac",
   "metadata": {},
   "outputs": [
    {
     "name": "stdout",
     "output_type": "stream",
     "text": [
      "A\n",
      "The time duration of a bit =  0.0036923122366919834\n"
     ]
    }
   ],
   "source": [
    "print(\"A\")\n",
    "time_duration_of_a_bit_Tb = (1/trans_data)\n",
    "print(\"The time duration of a bit = \", time_duration_of_a_bit_Tb)"
   ]
  },
  {
   "cell_type": "code",
   "execution_count": 5,
   "id": "0ccefcbb-3c66-4d42-b257-c04b85bbcc02",
   "metadata": {},
   "outputs": [
    {
     "name": "stdout",
     "output_type": "stream",
     "text": [
      "B\n",
      "The time duration of a slot 0.5769237869831224\n"
     ]
    }
   ],
   "source": [
    "print(\"B\")\n",
    "time_duration_of_a_slot_Ts = (each_time_slot*time_duration_of_a_bit_Tb)\n",
    "print(\"The time duration of a slot\", time_duration_of_a_slot_Ts)"
   ]
  },
  {
   "cell_type": "code",
   "execution_count": 9,
   "id": "5a30b81e-b07c-41a4-832d-d47ab507ff3c",
   "metadata": {},
   "outputs": [
    {
     "name": "stdout",
     "output_type": "stream",
     "text": [
      "C\n",
      "The time duration of a frame =  4.615390295864979\n"
     ]
    }
   ],
   "source": [
    "print(\"C\")\n",
    "time_duration_of_a_frame_Tf = (time_duration_of_a_slot_Ts*Num_time_slot)\n",
    "print(\"The time duration of a frame = \", time_duration_of_a_frame_Tf)"
   ]
  },
  {
   "cell_type": "code",
   "execution_count": null,
   "id": "eb0084f7-6399-4c53-9bad-36357f36aff5",
   "metadata": {},
   "outputs": [],
   "source": []
  }
 ],
 "metadata": {
  "kernelspec": {
   "display_name": "Python 3 (ipykernel)",
   "language": "python",
   "name": "python3"
  },
  "language_info": {
   "codemirror_mode": {
    "name": "ipython",
    "version": 3
   },
   "file_extension": ".py",
   "mimetype": "text/x-python",
   "name": "python",
   "nbconvert_exporter": "python",
   "pygments_lexer": "ipython3",
   "version": "3.12.4"
  }
 },
 "nbformat": 4,
 "nbformat_minor": 5
}
