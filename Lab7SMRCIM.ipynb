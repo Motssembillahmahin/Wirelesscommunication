{
 "cells": [
  {
   "cell_type": "code",
   "execution_count": 1,
   "id": "26b177ed-2f3e-4395-b9a6-952a1f4029c3",
   "metadata": {},
   "outputs": [
    {
     "name": "stdout",
     "output_type": "stream",
     "text": [
      "A\n",
      "deIT: 2.14\n"
     ]
    }
   ],
   "source": [
    "print('A')\n",
    "Tn = 150\n",
    "N = 70\n",
    "deIT = Tn/N\n",
    "print(f\"deIT: {deIT:.2f}\")"
   ]
  },
  {
   "cell_type": "code",
   "execution_count": 5,
   "id": "cf0eaba3-2b0e-4644-befc-70cc26446e6f",
   "metadata": {},
   "outputs": [
    {
     "name": "stdout",
     "output_type": "stream",
     "text": [
      "B\n",
      "The maximum bandwidth that the SMRCIM model can accurately represent 0.93\n",
      "deIT for SMRCIM urban microcell media is 57.14\n"
     ]
    }
   ],
   "source": [
    "print(\"B\")\n",
    "Tn = 4\n",
    "MBW = 2/deIT\n",
    "print(f'The maximum bandwidth that the SMRCIM model can accurately represent {MBW:.2f}')\n",
    "deIT = (Tn/N)*1000\n",
    "RFBW = (2*deIT)*1000\n",
    "print(f\"deIT for SMRCIM urban microcell media is {deIT:.2f}\")"
   ]
  },
  {
   "cell_type": "code",
   "execution_count": 17,
   "id": "6047b863-97ed-41ef-9d40-f8859d0cbb61",
   "metadata": {},
   "outputs": [
    {
     "name": "stdout",
     "output_type": "stream",
     "text": [
      "C\n",
      "for indoor channel =  7.142857\n",
      "The maximum RF Bandwidth for indoor channel model is 280 \n"
     ]
    }
   ],
   "source": [
    "print(\"C\")\n",
    "Exdel = 500\n",
    "deIT = Exdel/N\n",
    "print(f\"for indoor channel = {deIT:> 2f}\")\n",
    "RFBW = (2/deIT)*1000\n",
    "print(f\"The maximum RF Bandwidth for indoor channel model is {round(RFBW)} \")"
   ]
  },
  {
   "cell_type": "code",
   "execution_count": null,
   "id": "e07e2758-30b4-47f2-8630-6bcad93c2ed7",
   "metadata": {},
   "outputs": [],
   "source": []
  }
 ],
 "metadata": {
  "kernelspec": {
   "display_name": "Python 3 (ipykernel)",
   "language": "python",
   "name": "python3"
  },
  "language_info": {
   "codemirror_mode": {
    "name": "ipython",
    "version": 3
   },
   "file_extension": ".py",
   "mimetype": "text/x-python",
   "name": "python",
   "nbconvert_exporter": "python",
   "pygments_lexer": "ipython3",
   "version": "3.12.4"
  }
 },
 "nbformat": 4,
 "nbformat_minor": 5
}
