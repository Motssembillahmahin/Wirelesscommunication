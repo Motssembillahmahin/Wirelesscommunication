{
 "cells": [
  {
   "cell_type": "code",
   "execution_count": 5,
   "id": "9fbabdb0-48cd-437a-ac3c-0139b7ce7448",
   "metadata": {},
   "outputs": [
    {
     "name": "stdout",
     "output_type": "stream",
     "text": [
      "Lamda is: 0.33\n",
      "Path loss of PL(dB): 47.09\n"
     ]
    }
   ],
   "source": [
    "import math\n",
    "c = 3e8 # wavelength\n",
    "f = 9e8 # carrier frequency\n",
    "D = 1 #Franhofer distance\n",
    "Lamda = c/f\n",
    "print(f\"Lamda is: {Lamda:.2f}\")\n",
    "Df = 2*(D**2)/Lamda\n",
    "Path_Loss = - 10 * math.log10((Lamda**2)/(((4*math.pi)**2)*(Df**2)))\n",
    "print(f\"Path loss of PL(dB): {Path_Loss:.2f}\")"
   ]
  },
  {
   "cell_type": "code",
   "execution_count": null,
   "id": "a1a5a9a4-77b6-4f16-a5fd-de93c4439644",
   "metadata": {},
   "outputs": [],
   "source": []
  }
 ],
 "metadata": {
  "kernelspec": {
   "display_name": "Python 3 (ipykernel)",
   "language": "python",
   "name": "python3"
  },
  "language_info": {
   "codemirror_mode": {
    "name": "ipython",
    "version": 3
   },
   "file_extension": ".py",
   "mimetype": "text/x-python",
   "name": "python",
   "nbconvert_exporter": "python",
   "pygments_lexer": "ipython3",
   "version": "3.12.4"
  }
 },
 "nbformat": 4,
 "nbformat_minor": 5
}
