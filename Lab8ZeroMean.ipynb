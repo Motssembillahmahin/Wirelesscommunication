{
 "cells": [
  {
   "cell_type": "code",
   "execution_count": 1,
   "id": "b290f2ec-ce75-482e-97e7-5f1f30481055",
   "metadata": {},
   "outputs": [],
   "source": [
    "Am_signal_power = 400\n",
    "modulation_depth = 0.75"
   ]
  },
  {
   "cell_type": "code",
   "execution_count": 3,
   "id": "75dc25d2-e2f5-45ff-9f88-1b7e4b131018",
   "metadata": {},
   "outputs": [],
   "source": [
    "carriter_power = Am_signal_power/(1+(((0.75)**2)/2))"
   ]
  },
  {
   "cell_type": "code",
   "execution_count": 7,
   "id": "f9164d2c-13f9-4281-8cdd-dd81a3683832",
   "metadata": {},
   "outputs": [
    {
     "name": "stdout",
     "output_type": "stream",
     "text": [
      "Carrier Power 312.1951219512195\n"
     ]
    }
   ],
   "source": [
    "print(\"Carrier Power\", carriter_power)"
   ]
  },
  {
   "cell_type": "code",
   "execution_count": 9,
   "id": "b6cc206b-8bec-476a-b76b-eb8e89760d32",
   "metadata": {},
   "outputs": [
    {
     "name": "stdout",
     "output_type": "stream",
     "text": [
      "A\n",
      "The total power is:  78.04878048780488\n"
     ]
    }
   ],
   "source": [
    "print(\"A\")\n",
    "total_power = (carriter_power/Am_signal_power)*100\n",
    "print(\"The total power is: \", total_power)"
   ]
  },
  {
   "cell_type": "code",
   "execution_count": 11,
   "id": "26798555-a2ba-49ba-87e1-cfcf96da0128",
   "metadata": {},
   "outputs": [
    {
     "name": "stdout",
     "output_type": "stream",
     "text": [
      "B\n",
      "Power in each sideband is: 43.90243902439025\n"
     ]
    }
   ],
   "source": [
    "print(\"B\")\n",
    "power_in_each_sideband = 0.5*(Am_signal_power - carriter_power)\n",
    "print(\"Power in each sideband is:\", power_in_each_sideband)"
   ]
  },
  {
   "cell_type": "code",
   "execution_count": 13,
   "id": "2da2500a-94ec-4879-9495-e57a82421aa6",
   "metadata": {},
   "outputs": [
    {
     "name": "stdout",
     "output_type": "stream",
     "text": [
      "C\n",
      "The percentage power is: 89.02439024390245\n"
     ]
    }
   ],
   "source": [
    "print(\"C\")\n",
    "percentage_power = (1 - (power_in_each_sideband/Am_signal_power))*100\n",
    "print(\"The percentage power is:\", percentage_power)"
   ]
  },
  {
   "cell_type": "code",
   "execution_count": null,
   "id": "537d37d7-8da5-4148-b686-33a389aa6683",
   "metadata": {},
   "outputs": [],
   "source": []
  }
 ],
 "metadata": {
  "kernelspec": {
   "display_name": "Python 3 (ipykernel)",
   "language": "python",
   "name": "python3"
  },
  "language_info": {
   "codemirror_mode": {
    "name": "ipython",
    "version": 3
   },
   "file_extension": ".py",
   "mimetype": "text/x-python",
   "name": "python",
   "nbconvert_exporter": "python",
   "pygments_lexer": "ipython3",
   "version": "3.12.4"
  }
 },
 "nbformat": 4,
 "nbformat_minor": 5
}
