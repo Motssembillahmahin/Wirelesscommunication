{
 "cells": [
  {
   "cell_type": "code",
   "execution_count": 1,
   "id": "c624db14-02a0-4f25-9772-a91a264fad81",
   "metadata": {},
   "outputs": [],
   "source": [
    "fm = 4\n",
    "mt_max_value = 8\n",
    "gain = 10"
   ]
  },
  {
   "cell_type": "code",
   "execution_count": 3,
   "id": "2edd885f-e671-4c4f-b50c-69900dea2d76",
   "metadata": {},
   "outputs": [],
   "source": [
    "peak_deviation_delta_f = mt_max_value*gain"
   ]
  },
  {
   "cell_type": "code",
   "execution_count": 7,
   "id": "cb3401d6-a83c-4183-9581-e0723a275f7a",
   "metadata": {},
   "outputs": [
    {
     "name": "stdout",
     "output_type": "stream",
     "text": [
      "A\n",
      "The peak frequency deviation =  80\n"
     ]
    }
   ],
   "source": [
    "print(\"A\")\n",
    "print(\"The peak frequency deviation = \", peak_deviation_delta_f)"
   ]
  },
  {
   "cell_type": "code",
   "execution_count": 9,
   "id": "117e1d4d-1fc6-46e3-8eb3-378942d40edf",
   "metadata": {},
   "outputs": [
    {
     "name": "stdout",
     "output_type": "stream",
     "text": [
      "B\n",
      "The modulating index =  20.0\n"
     ]
    }
   ],
   "source": [
    "print(\"B\")\n",
    "modulating_index_Bf = (peak_deviation_delta_f/fm)\n",
    "print(\"The modulating index = \", modulating_index_Bf)"
   ]
  },
  {
   "cell_type": "code",
   "execution_count": 15,
   "id": "23fe009a-82b0-41d2-bcf4-09ae85cfecd7",
   "metadata": {},
   "outputs": [
    {
     "name": "stdout",
     "output_type": "stream",
     "text": [
      "C\n",
      "The phase modulation index =  80\n"
     ]
    }
   ],
   "source": [
    "print(\"C\")\n",
    "phase_modulation_index_Bp = (gain*mt_max_value)\n",
    "print(\"The phase modulation index = \", phase_modulation_index_Bp)"
   ]
  },
  {
   "cell_type": "code",
   "execution_count": null,
   "id": "c4f8c8a2-e327-4a23-8e78-ea6e74afa6b2",
   "metadata": {},
   "outputs": [],
   "source": []
  }
 ],
 "metadata": {
  "kernelspec": {
   "display_name": "Python 3 (ipykernel)",
   "language": "python",
   "name": "python3"
  },
  "language_info": {
   "codemirror_mode": {
    "name": "ipython",
    "version": 3
   },
   "file_extension": ".py",
   "mimetype": "text/x-python",
   "name": "python",
   "nbconvert_exporter": "python",
   "pygments_lexer": "ipython3",
   "version": "3.12.4"
  }
 },
 "nbformat": 4,
 "nbformat_minor": 5
}
