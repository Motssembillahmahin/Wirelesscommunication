{
 "cells": [
  {
   "cell_type": "code",
   "execution_count": 3,
   "id": "8f1c1517-cd5b-4dcf-a23b-d28edab87408",
   "metadata": {},
   "outputs": [],
   "source": [
    "trans_fre = 270.833\n",
    "Num_of_bits_in_each_time_slot = (6 + 8.25 + 26 + 2*58)"
   ]
  },
  {
   "cell_type": "code",
   "execution_count": 5,
   "id": "3c4a584c-8f47-4f97-8fb9-cb209a1425a2",
   "metadata": {},
   "outputs": [
    {
     "name": "stdout",
     "output_type": "stream",
     "text": [
      "A\n",
      "Number of overhead beat: 322.0\n"
     ]
    }
   ],
   "source": [
    "print(\"A\")\n",
    "BOH = (8*6 + 8*8.25 + 8*26)\n",
    "print(\"Number of overhead beat:\", BOH)"
   ]
  },
  {
   "cell_type": "code",
   "execution_count": 7,
   "id": "84080bf9-2294-4e63-a491-6d193e6c3d22",
   "metadata": {},
   "outputs": [
    {
     "name": "stdout",
     "output_type": "stream",
     "text": [
      "B\n",
      "Number of bits per frame =  156.25\n"
     ]
    }
   ],
   "source": [
    "print(\"B\")\n",
    "Num_of_bits_per_frame = (8*Num_of_bits_in_each_time_slot)\n",
    "print(\"Number of bits per frame = \", Num_of_bits_in_each_time_slot)"
   ]
  },
  {
   "cell_type": "code",
   "execution_count": 9,
   "id": "8b1e0554-d660-4214-bd04-a3f3650a6cfd",
   "metadata": {},
   "outputs": [
    {
     "name": "stdout",
     "output_type": "stream",
     "text": [
      "C\n",
      "Frame rate =  216.6664\n"
     ]
    }
   ],
   "source": [
    "print(\"C\")\n",
    "frame_rate = (trans_fre/Num_of_bits_per_frame)*1000\n",
    "print(\"Frame rate = \", frame_rate)"
   ]
  },
  {
   "cell_type": "code",
   "execution_count": 11,
   "id": "235f18f6-86b4-4379-8f9c-b20f5c00d27e",
   "metadata": {},
   "outputs": [
    {
     "name": "stdout",
     "output_type": "stream",
     "text": [
      "D\n",
      "Time duration of a slot 576.9237869831225\n"
     ]
    }
   ],
   "source": [
    "print(\"D\")\n",
    "time_duration_of_a_slot = Num_of_bits_in_each_time_slot*(1/trans_fre)*1000\n",
    "print(\"Time duration of a slot\", time_duration_of_a_slot)"
   ]
  },
  {
   "cell_type": "code",
   "execution_count": 17,
   "id": "7a7d3954-a046-43c5-aee8-0ec31a01f0bd",
   "metadata": {},
   "outputs": [
    {
     "name": "stdout",
     "output_type": "stream",
     "text": [
      "D\n",
      "Frame efficiency =  74.24\n"
     ]
    }
   ],
   "source": [
    "print(\"D\")\n",
    "frame_efficiency = (1 - (BOH/Num_of_bits_per_frame))*100\n",
    "print(\"Frame efficiency = \", frame_efficiency)"
   ]
  },
  {
   "cell_type": "code",
   "execution_count": null,
   "id": "c57d74b0-8d85-4643-b887-97cd30c8759a",
   "metadata": {},
   "outputs": [],
   "source": []
  }
 ],
 "metadata": {
  "kernelspec": {
   "display_name": "Python 3 (ipykernel)",
   "language": "python",
   "name": "python3"
  },
  "language_info": {
   "codemirror_mode": {
    "name": "ipython",
    "version": 3
   },
   "file_extension": ".py",
   "mimetype": "text/x-python",
   "name": "python",
   "nbconvert_exporter": "python",
   "pygments_lexer": "ipython3",
   "version": "3.12.4"
  }
 },
 "nbformat": 4,
 "nbformat_minor": 5
}
