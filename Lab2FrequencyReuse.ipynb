{
 "cells": [
  {
   "cell_type": "code",
   "execution_count": 1,
   "id": "4d035630-c912-4cb5-8a90-16293a7585a3",
   "metadata": {},
   "outputs": [],
   "source": [
    "import math"
   ]
  },
  {
   "cell_type": "code",
   "execution_count": 5,
   "id": "639e762c-8381-4325-9ee5-a4f2b0c1e3ba",
   "metadata": {},
   "outputs": [],
   "source": [
    "def calculate_frequency_reuse_factor(N):\n",
    "    Q = math.sqrt(3 * N)\n",
    "    return Q"
   ]
  },
  {
   "cell_type": "code",
   "execution_count": 7,
   "id": "9d4e5f9b-f8fd-421e-a9ac-f5fae1fd016b",
   "metadata": {},
   "outputs": [],
   "source": [
    "def calculate_SIR(Co, n, Q):\n",
    "    # signal to interference ratio\n",
    "    SI = 10*math.log10((1/Co)*Q**n)\n",
    "    return SI"
   ]
  },
  {
   "cell_type": "code",
   "execution_count": 15,
   "id": "f13fea89-5fb5-4d6f-b7a6-d797a0b8e46a",
   "metadata": {},
   "outputs": [],
   "source": [
    "def find_optimal_parameters(R_SI, Co, N):\n",
    "    for n in [4,3]:\n",
    "        Q = calculate_frequency_reuse_factor(N)\n",
    "        SI = calculate_SIR(Co, n, Q)\n",
    "        print(f\"For n = {n} :\")\n",
    "        print(f\"Frequency reuse factor(Q): {Q}\")\n",
    "        print(f\"signal to interference ration(SI): {SI} dB\")\n",
    "        print(\"\\n\")\n",
    "        if SI < R_SI:\n",
    "            # Adjusting parameters\n",
    "            i = 2\n",
    "            j = 2\n",
    "            N = i**2 + i*j + j**2\n",
    "            Q = calculate_frequency_reuse_factor(N)\n",
    "            SI = calculate_SIR(Co, n, Q)\n",
    "            print(\"\\n\")\n",
    "            print(\"Adjusting Parameter\")\n",
    "            print(f\"New Frequency reuse factor(Q): {Q}\")\n",
    "            print(f\"New single to interference ration(SI): {SI} dB\")"
   ]
  },
  {
   "cell_type": "code",
   "execution_count": 17,
   "id": "a93d5a33-9df2-41a6-8658-c01932fd879e",
   "metadata": {},
   "outputs": [
    {
     "name": "stdout",
     "output_type": "stream",
     "text": [
      "For n = 4 :\n",
      "Frequency reuse factor(Q): 4.58257569495584\n",
      "signal to interference ration(SI): 18.66287339084195 dB\n",
      "\n",
      "\n",
      "For n = 3 :\n",
      "Frequency reuse factor(Q): 4.58257569495584\n",
      "signal to interference ration(SI): 12.051776917172353 dB\n",
      "\n",
      "\n",
      "\n",
      "\n",
      "Adjusting Parameter\n",
      "New Frequency reuse factor(Q): 6.0\n",
      "New single to interference ration(SI): 15.563025007672874 dB\n"
     ]
    }
   ],
   "source": [
    "R_SI=  15 # Required signal to interference ration(dB)\n",
    "Co = 6 # Path loss exponent\n",
    "find_optimal_parameters(R_SI, Co, 7)"
   ]
  },
  {
   "cell_type": "code",
   "execution_count": null,
   "id": "bb3e25d2-6f63-4a25-8730-355d9cb9b0d5",
   "metadata": {},
   "outputs": [],
   "source": []
  }
 ],
 "metadata": {
  "kernelspec": {
   "display_name": "Python 3 (ipykernel)",
   "language": "python",
   "name": "python3"
  },
  "language_info": {
   "codemirror_mode": {
    "name": "ipython",
    "version": 3
   },
   "file_extension": ".py",
   "mimetype": "text/x-python",
   "name": "python",
   "nbconvert_exporter": "python",
   "pygments_lexer": "ipython3",
   "version": "3.12.4"
  }
 },
 "nbformat": 4,
 "nbformat_minor": 5
}
