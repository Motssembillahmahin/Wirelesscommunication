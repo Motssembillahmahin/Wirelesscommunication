{
 "cells": [
  {
   "cell_type": "code",
   "execution_count": 1,
   "id": "566545a2-e9bd-4a7a-9666-a5cd74a11241",
   "metadata": {},
   "outputs": [],
   "source": [
    "import math\n",
    "Lamda = 2\n",
    "H = (3 / 60)\n",
    "Au = (Lamda * H)\n",
    "data = {\n",
    "    'A': {'c': 19, 'cells': 394, 'A': 0.005},\n",
    "    'B': {'c': 57, 'cells': 98, 'A': 0.005},\n",
    "    'C': {'c': 100, 'cells': 49, 'A': 0.005}\n",
    "}"
   ]
  },
  {
   "cell_type": "code",
   "execution_count": 3,
   "id": "94edaf23-1053-4b8c-9b25-8c7d8ecb5196",
   "metadata": {},
   "outputs": [],
   "source": [
    "def calculate(A):\n",
    "    return math.ceil(float(A)/ Au)"
   ]
  },
  {
   "cell_type": "code",
   "execution_count": 6,
   "id": "e29a9e61-c7d0-4617-b8b9-bd2d0b38e7f0",
   "metadata": {},
   "outputs": [
    {
     "name": "stdout",
     "output_type": "stream",
     "text": [
      "System A\n"
     ]
    },
    {
     "name": "stdin",
     "output_type": "stream",
     "text": [
      "in terms of 0.005 A is:  12\n"
     ]
    },
    {
     "name": "stdout",
     "output_type": "stream",
     "text": [
      "The total number of users: 120\n",
      "Total number of subscriber supported by System A is 47280\n",
      "System B\n"
     ]
    },
    {
     "name": "stdin",
     "output_type": "stream",
     "text": [
      "in terms of 0.005 A is:  45\n"
     ]
    },
    {
     "name": "stdout",
     "output_type": "stream",
     "text": [
      "The total number of users: 450\n",
      "Total number of subscriber supported by System B is 44100\n",
      "System C\n"
     ]
    },
    {
     "name": "stdin",
     "output_type": "stream",
     "text": [
      "in terms of 0.005 A is:  88\n"
     ]
    },
    {
     "name": "stdout",
     "output_type": "stream",
     "text": [
      "The total number of users: 880\n",
      "Total number of subscriber supported by System C is 43120\n"
     ]
    }
   ],
   "source": [
    "listofanswer = list(data.keys())\n",
    "total_user = []\n",
    "n = 0\n",
    "while n < len(listofanswer):\n",
    "    for i in range(len(listofanswer)):\n",
    "        print(f'System {listofanswer[i]}')\n",
    "        # A input value is = 12, 45, 88\n",
    "        # From earlang B table we go\n",
    "        A = input(f'in terms of {data[listofanswer[i]][\"A\"]} A is: ')\n",
    "        users = calculate(A)\n",
    "        print(f'The total number of users: {users}')\n",
    "        T_user = users*data[listofanswer[i]][\"cells\"]\n",
    "        print(f\"Total number of subscriber supported by System {listofanswer[i]} is {T_user}\")\n",
    "        total_user.append(T_user)\n",
    "        n += 1"
   ]
  },
  {
   "cell_type": "markdown",
   "id": "9da2e999-9940-432d-8eb7-4556163b4737",
   "metadata": {},
   "source": [
    "Penetration Section"
   ]
  },
  {
   "cell_type": "code",
   "execution_count": 9,
   "id": "fedbb1fe-da98-402c-8419-d1e9183e5a88",
   "metadata": {},
   "outputs": [
    {
     "name": "stdout",
     "output_type": "stream",
     "text": [
      "Market penetration of System A is 2.36%\n",
      "Market penetration of System B is 2.21%\n",
      "Market penetration of System C is 2.16%\n",
      "Total Penetration : 6.73%\n"
     ]
    }
   ],
   "source": [
    "Total_p = 0\n",
    "for i in total_user:\n",
    "    Total_p += i\n",
    "\n",
    "for i in range(len(total_user)):\n",
    "    penetration_percentage = (total_user[i]/2e6)*100\n",
    "    print(f'Market penetration of System {listofanswer[i]} is {penetration_percentage:.2f}%')\n",
    "\n",
    "print(f'Total Penetration : {(Total_p/2e6)*100:.2f}%')"
   ]
  },
  {
   "cell_type": "code",
   "execution_count": null,
   "id": "1784a71e-3306-4016-bb5f-43573975fdf9",
   "metadata": {},
   "outputs": [],
   "source": []
  }
 ],
 "metadata": {
  "kernelspec": {
   "display_name": "Python 3 (ipykernel)",
   "language": "python",
   "name": "python3"
  },
  "language_info": {
   "codemirror_mode": {
    "name": "ipython",
    "version": 3
   },
   "file_extension": ".py",
   "mimetype": "text/x-python",
   "name": "python",
   "nbconvert_exporter": "python",
   "pygments_lexer": "ipython3",
   "version": "3.12.4"
  }
 },
 "nbformat": 4,
 "nbformat_minor": 5
}
